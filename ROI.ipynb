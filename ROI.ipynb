{
 "cells": [
  {
   "cell_type": "code",
   "execution_count": 3,
   "metadata": {
    "collapsed": true
   },
   "outputs": [],
   "source": [
    "%matplotlib inline\n",
    "import numpy as np\n",
    "import pandas as pd\n",
    "import matplotlib.pyplot as plt\n",
    "import os"
   ]
  },
  {
   "cell_type": "code",
   "execution_count": 4,
   "metadata": {
    "collapsed": true
   },
   "outputs": [],
   "source": [
    "DATE_FORMAT = '%m.%Y'"
   ]
  },
  {
   "cell_type": "code",
   "execution_count": 5,
   "metadata": {
    "collapsed": true
   },
   "outputs": [],
   "source": [
    "def safe_mkdf(path, cols):\n",
    "    dateparse = lambda x: pd.datetime.strptime(x, '%m.%Y')\n",
    "    if os.path.exists(path):\n",
    "        df = pd.read_csv(path, index_col=0, parse_dates = [1], date_parser=dateparse)\n",
    "    else:\n",
    "        df = pd.DataFrame(columns=cols)\n",
    "    return df"
   ]
  },
  {
   "cell_type": "code",
   "execution_count": 11,
   "metadata": {
    "collapsed": true
   },
   "outputs": [],
   "source": [
    "class Hist_df():\n",
    "    hist_columns = ['Date', 'Amount']\n",
    "    \n",
    "    \n",
    "    def __init__(self, path):\n",
    "        self.path = path\n",
    "        self.df = safe_mkdf(path, Hist_df.hist_columns)\n",
    "        \n",
    "    def add_row(self, string_date, amnt):\n",
    "        date_tm = pd.to_datetime(string_date, format=DATE_FORMAT)\n",
    "        index = self.df.index.size\n",
    "        self.df.loc[index] = pd.Series({Hist_df.hist_columns[0]: date_tm, Hist_df.hist_columns[1]: amnt})\n",
    "        self.df.to_csv(self.path, date_format= DATE_FORMAT)\n",
    "        \n",
    "    def sort(self):\n",
    "        self.df = self.df.sort_values(by = 'Date')\n",
    "        self.df.index = np.arange(self.df.index.size)\n",
    "        \n",
    "    def get_grouped(self):\n",
    "        return self.df.groupby(['Date']).sum()\n",
    "        "
   ]
  },
  {
   "cell_type": "code",
   "execution_count": 7,
   "metadata": {
    "collapsed": true
   },
   "outputs": [],
   "source": [
    "def check_dates(hist_df):\n",
    "    return not hist_df.df['Date'].duplicated().any()"
   ]
  },
  {
   "cell_type": "code",
   "execution_count": 126,
   "metadata": {},
   "outputs": [],
   "source": [
    "class Investment():\n",
    "    \n",
    "    def safe_mkdir(self, path):\n",
    "        if not os.path.exists(path):\n",
    "            os.makedirs(path)\n",
    "            \n",
    "    def __init__(self, path):\n",
    "        self.safe_mkdir(os.path.expanduser(path))\n",
    "        \n",
    "        self._stat_hist_filename = os.path.join(os.path.expanduser(path),'stat_hist.csv')\n",
    "        \n",
    "        self._deps_hist_filename = os.path.join(os.path.expanduser(path),'deps_hist.csv')\n",
    "        \n",
    "        self._withs_hist_filename = os.path.join(os.path.expanduser(path),'withs_hist.csv')\n",
    "        \n",
    "        self.stat_hist_df = Hist_df(self._stat_hist_filename)\n",
    "        self.deps_hist_df = Hist_df(self._deps_hist_filename)\n",
    "        self.withs_hist_df = Hist_df(self._withs_hist_filename)\n",
    "        self.grouped_stat_diff_df = pd.DataFrame()\n",
    "        self.grouped_withs_hist_df = pd.DataFrame()\n",
    "        self.grouped_deps_hist_df = pd.DataFrame()\n",
    "        \n",
    "    def add_deposit(self, string_date, amnt):\n",
    "        self.deps_hist_df.add_row(string_date, amnt)\n",
    "        self.deps_hist_df.sort()\n",
    "        self.grouped_deps_hist_df = self.deps_hist_df.get_grouped()\n",
    "        \n",
    "    def add_state(self, string_date, amnt):\n",
    "        self.stat_hist_df.add_row(string_date, amnt)\n",
    "        self.stat_hist_df.sort()\n",
    "        self.grouped_stat_diff_df = self.stat_hist_df.df.set_index('Date').diff()\n",
    "        if not check_dates(self.stat_hist_df):\n",
    "            print(\"Warining! There is duplicates in state history\")\n",
    "            \n",
    "    def add_withdrawal(self, string_date, amnt):\n",
    "        self.withs_hist_df.add_row(string_date, amnt)\n",
    "        self.withs_hist_df.sort()\n",
    "        self.grouped_withs_hist_df = self.withs_hist_df.get_grouped()\n",
    "        \n",
    "    def build(self):\n",
    "        self.stat_hist_df.sort()\n",
    "        self.grouped_stat_diff_df = self.stat_hist_df.df.set_index('Date').diff()\n",
    "        self.deps_hist_df.sort()\n",
    "        self.grouped_deps_hist_df = self.deps_hist_df.get_grouped()\n",
    "        self.withs_hist_df.sort()\n",
    "        self.grouped_withs_hist_df = self.withs_hist_df.get_grouped()\n",
    "        indexes = self.grouped_stat_diff_df.index.union(\n",
    "            self.grouped_withs_hist_df.index).union(self.grouped_deps_hist_df.index)\n",
    "        if len(indexes) > 0:\n",
    "            first_i = indexes[0]\n",
    "            last_i = indexes[-1]\n",
    "            self.indexed_stat_diff_df = self.grouped_stat_diff_df.reindex(indexes, fill_value=0)\n",
    "            self.indexed_withs_df = self.grouped_withs_hist_df.reindex(indexes, fill_value=0)\n",
    "            self.indexed_deps_df = self.grouped_deps_hist_df.reindex(indexes, fill_value=0)\n",
    "        \n",
    "    def get_returns(self):\n",
    "        return self.indexed_stat_diff_df + \\\n",
    "                self.indexed_withs_df - \\\n",
    "                self.indexed_deps_df"
   ]
  },
  {
   "cell_type": "code",
   "execution_count": 128,
   "metadata": {},
   "outputs": [],
   "source": [
    "invest = Investment('./data')\n",
    "invest.add_state('01.2017', 149)\n",
    "invest.add_state('02.2017', 150)\n",
    "invest.add_state('03.2017', 160)\n",
    "invest.add_state('04.2017', 100)\n",
    "invest.add_deposit('03.2017', 5)\n",
    "invest.add_withdrawal('04.2017', 70)\n",
    "invest.build()"
   ]
  },
  {
   "cell_type": "code",
   "execution_count": 133,
   "metadata": {},
   "outputs": [
    {
     "name": "stdout",
     "output_type": "stream",
     "text": [
      "           Amount\n",
      "Date             \n",
      "2017-01-01    NaN\n",
      "2017-02-01      1\n",
      "2017-03-01      5\n",
      "2017-04-01     10\n"
     ]
    }
   ],
   "source": [
    "print(invest.get_returns())"
   ]
  },
  {
   "cell_type": "code",
   "execution_count": 38,
   "metadata": {},
   "outputs": [
    {
     "data": {
      "text/html": [
       "<div>\n",
       "<style>\n",
       "    .dataframe thead tr:only-child th {\n",
       "        text-align: right;\n",
       "    }\n",
       "\n",
       "    .dataframe thead th {\n",
       "        text-align: left;\n",
       "    }\n",
       "\n",
       "    .dataframe tbody tr th {\n",
       "        vertical-align: top;\n",
       "    }\n",
       "</style>\n",
       "<table border=\"1\" class=\"dataframe\">\n",
       "  <thead>\n",
       "    <tr style=\"text-align: right;\">\n",
       "      <th></th>\n",
       "      <th>x</th>\n",
       "      <th>y</th>\n",
       "    </tr>\n",
       "  </thead>\n",
       "  <tbody>\n",
       "    <tr>\n",
       "      <th>0</th>\n",
       "      <td>1</td>\n",
       "      <td>2</td>\n",
       "    </tr>\n",
       "  </tbody>\n",
       "</table>\n",
       "</div>"
      ],
      "text/plain": [
       "   x  y\n",
       "0  1  2"
      ]
     },
     "execution_count": 38,
     "metadata": {},
     "output_type": "execute_result"
    }
   ],
   "source": [
    "r=pd.DataFrame(columns=['x', 'y'])\n",
    "r.loc[0] = [1,2]\n",
    "r"
   ]
  }
 ],
 "metadata": {
  "kernelspec": {
   "display_name": "Python 3",
   "language": "python",
   "name": "python3"
  },
  "language_info": {
   "codemirror_mode": {
    "name": "ipython",
    "version": 3
   },
   "file_extension": ".py",
   "mimetype": "text/x-python",
   "name": "python",
   "nbconvert_exporter": "python",
   "pygments_lexer": "ipython3",
   "version": "3.6.1"
  }
 },
 "nbformat": 4,
 "nbformat_minor": 2
}
