{
 "cells": [
  {
   "cell_type": "code",
   "execution_count": 1,
   "metadata": {
    "collapsed": true
   },
   "outputs": [],
   "source": [
    "%matplotlib inline\n",
    "import numpy as np\n",
    "import pandas as pd\n",
    "import matplotlib.pyplot as plt\n",
    "import os"
   ]
  },
  {
   "cell_type": "code",
   "execution_count": 2,
   "metadata": {
    "collapsed": true
   },
   "outputs": [],
   "source": [
    "DATE_FORMAT = '%m.%Y'"
   ]
  },
  {
   "cell_type": "code",
   "execution_count": 3,
   "metadata": {
    "collapsed": true
   },
   "outputs": [],
   "source": [
    "def safe_mkdf(path, cols):\n",
    "    dateparse = lambda x: pd.datetime.strptime(x, '%m.%Y')\n",
    "    if os.path.exists(path):\n",
    "        df = pd.read_csv(path, index_col=0, parse_dates = [1], date_parser=dateparse)\n",
    "    else:\n",
    "        df = pd.DataFrame(columns=cols)\n",
    "    return df"
   ]
  },
  {
   "cell_type": "code",
   "execution_count": 4,
   "metadata": {
    "collapsed": true
   },
   "outputs": [],
   "source": [
    "class Hist_df():\n",
    "    hist_columns = ['Date', 'Amount']\n",
    "    \n",
    "    \n",
    "    def __init__(self, path):\n",
    "        self.path = path\n",
    "        self.df = safe_mkdf(path, Hist_df.hist_columns)\n",
    "        \n",
    "    def add_row(self, string_date, amnt):\n",
    "        date_tm = pd.to_datetime(string_date, format=DATE_FORMAT)\n",
    "        index = self.df.index.size\n",
    "        self.df.loc[index] = pd.Series({Hist_df.hist_columns[0]: date_tm, Hist_df.hist_columns[1]: amnt})\n",
    "        self.df.to_csv(self.path, date_format= DATE_FORMAT)\n",
    "        \n",
    "    def sort(self):\n",
    "        self.df = self.df.sort_values(by = 'Date')\n",
    "        self.df.index = np.arange(self.df.index.size)\n",
    "        \n",
    "    def get_grouped(self):\n",
    "        return self.df.groupby(['Date']).sum()\n",
    "        "
   ]
  },
  {
   "cell_type": "code",
   "execution_count": 5,
   "metadata": {
    "collapsed": true
   },
   "outputs": [],
   "source": [
    "def check_dates(hist_df):\n",
    "    return not hist_df.df['Date'].duplicated().any()"
   ]
  },
  {
   "cell_type": "code",
   "execution_count": 115,
   "metadata": {},
   "outputs": [],
   "source": [
    "class Investment():\n",
    "    \n",
    "    def safe_mkdir(self, path):\n",
    "        if not os.path.exists(path):\n",
    "            os.makedirs(path)\n",
    "            \n",
    "    def __init__(self, path):\n",
    "        self.safe_mkdir(os.path.expanduser(path))\n",
    "        \n",
    "        self._stat_hist_filename = os.path.join(os.path.expanduser(path),'stat_hist.csv')\n",
    "        \n",
    "        self._deps_hist_filename = os.path.join(os.path.expanduser(path),'deps_hist.csv')\n",
    "        \n",
    "        self._withs_hist_filename = os.path.join(os.path.expanduser(path),'withs_hist.csv')\n",
    "        \n",
    "        self.stat_hist_df = Hist_df(self._stat_hist_filename)\n",
    "        self.deps_hist_df = Hist_df(self._deps_hist_filename)\n",
    "        self.withs_hist_df = Hist_df(self._withs_hist_filename)\n",
    "        self.grouped_stat_df = pd.DataFrame()\n",
    "        self.grouped_stat_diff_df = pd.DataFrame()\n",
    "        self.grouped_withs_hist_df = pd.DataFrame()\n",
    "        self.grouped_deps_hist_df = pd.DataFrame()\n",
    "        \n",
    "    def add_deposit(self, string_date, amnt):\n",
    "        self.deps_hist_df.add_row(string_date, amnt)\n",
    "        self.deps_hist_df.sort()\n",
    "        self.grouped_deps_hist_df = self.deps_hist_df.get_grouped()\n",
    "        \n",
    "    def add_state(self, string_date, amnt):\n",
    "        self.stat_hist_df.add_row(string_date, amnt)\n",
    "        self.stat_hist_df.sort()\n",
    "        self.grouped_stat_diff_df = self.stat_hist_df.df.set_index('Date').diff()\n",
    "        if not check_dates(self.stat_hist_df):\n",
    "            print(\"Warining! There is duplicates in state history\")\n",
    "            \n",
    "    def add_withdrawal(self, string_date, amnt):\n",
    "        self.withs_hist_df.add_row(string_date, amnt)\n",
    "        self.withs_hist_df.sort()\n",
    "        self.grouped_withs_hist_df = self.withs_hist_df.get_grouped()\n",
    "        \n",
    "    def build(self):\n",
    "        self.stat_hist_df.sort()\n",
    "        self.grouped_stat_df = self.stat_hist_df.df.set_index('Date').iloc[:-1]\n",
    "        self.grouped_stat_diff_df = self.stat_hist_df.df.set_index('Date').diff().shift(-1).iloc[:-1]\n",
    "        self.deps_hist_df.sort()\n",
    "        self.grouped_deps_hist_df = self.deps_hist_df.get_grouped()\n",
    "        self.withs_hist_df.sort()\n",
    "        self.grouped_withs_hist_df = self.withs_hist_df.get_grouped()\n",
    "        indexes = self.grouped_stat_diff_df.index.union(\n",
    "            self.grouped_withs_hist_df.index).union(self.grouped_deps_hist_df.index)\n",
    "        if len(indexes) > 0:\n",
    "            first_i = indexes[0]\n",
    "            last_i = indexes[-1]\n",
    "            self.indexed_stat_diff_df = self.grouped_stat_diff_df.reindex(indexes, fill_value=0)\n",
    "            self.indexed_withs_df = self.grouped_withs_hist_df.reindex(indexes, fill_value=0)\n",
    "            self.indexed_deps_df = self.grouped_deps_hist_df.reindex(indexes, fill_value=0)\n",
    "        \n",
    "    def get_profits(self):\n",
    "        return self.indexed_stat_diff_df + \\\n",
    "                self.indexed_withs_df - \\\n",
    "                self.indexed_deps_df\n",
    "            \n",
    "    def get_returns(self):\n",
    "        return self.get_profits() / self.grouped_stat_df\n",
    "    \n",
    "    def get_returns_anual(self):\n",
    "        return self.get_returns() * 12\n",
    "    \n",
    "    def get_rolling_return(self, window):\n",
    "        return self.get_profits().rolling(window).sum() / self.grouped_stat_df.rolling(window).mean()\n",
    "    \n",
    "    def get_rolling_return_anual(self, window):\n",
    "        return self.get_rolling_return(window) / window * 12"
   ]
  },
  {
   "cell_type": "code",
   "execution_count": 192,
   "metadata": {},
   "outputs": [],
   "source": [
    "invest = Investment('./invest')\n",
    "\n",
    "# invest.add_deposit('03.2017', 5)\n",
    "# invest.add_withdrawal('04.2017', 70)"
   ]
  },
  {
   "cell_type": "code",
   "execution_count": 193,
   "metadata": {
    "collapsed": true
   },
   "outputs": [],
   "source": [
    "invest.add_state('01.2017', 142840.62)\n",
    "invest.add_state('02.2017', 143995.56)"
   ]
  },
  {
   "cell_type": "code",
   "execution_count": 194,
   "metadata": {
    "collapsed": true
   },
   "outputs": [],
   "source": [
    "invest.add_state('03.2017', 193245.68)"
   ]
  },
  {
   "cell_type": "code",
   "execution_count": 195,
   "metadata": {
    "collapsed": true
   },
   "outputs": [],
   "source": [
    "invest.add_deposit('02.2017', 50000)"
   ]
  },
  {
   "cell_type": "code",
   "execution_count": 196,
   "metadata": {
    "collapsed": true
   },
   "outputs": [],
   "source": [
    "invest.add_state('04.2017', 195490.97)"
   ]
  },
  {
   "cell_type": "code",
   "execution_count": 197,
   "metadata": {
    "collapsed": true
   },
   "outputs": [],
   "source": [
    "invest.add_state('05.2017', 196769.01)"
   ]
  },
  {
   "cell_type": "code",
   "execution_count": 198,
   "metadata": {
    "collapsed": true
   },
   "outputs": [],
   "source": [
    "invest.add_state('06.2017', 197372.56)"
   ]
  },
  {
   "cell_type": "code",
   "execution_count": 199,
   "metadata": {
    "collapsed": true
   },
   "outputs": [],
   "source": [
    "invest.add_state('07.2017', 198200.73)"
   ]
  },
  {
   "cell_type": "code",
   "execution_count": 200,
   "metadata": {
    "collapsed": true
   },
   "outputs": [],
   "source": [
    "invest.add_state('08.2017', 250631.00)\n",
    "invest.add_deposit('07.2017', 50000)"
   ]
  },
  {
   "cell_type": "code",
   "execution_count": 201,
   "metadata": {
    "collapsed": true
   },
   "outputs": [],
   "source": [
    "invest.add_state('09.2017', 252846.68)\n",
    "invest.add_withdrawal('08.2017', 11700)"
   ]
  },
  {
   "cell_type": "code",
   "execution_count": 203,
   "metadata": {
    "collapsed": true
   },
   "outputs": [],
   "source": [
    "invest.add_state('10.2017', 251136.59)"
   ]
  },
  {
   "cell_type": "code",
   "execution_count": 205,
   "metadata": {},
   "outputs": [
    {
     "name": "stdout",
     "output_type": "stream",
     "text": [
      "Profits               Amount\n",
      "Date                \n",
      "2017-01-01   1154.94\n",
      "2017-02-01   -749.88\n",
      "2017-03-01   2245.29\n",
      "2017-04-01   1278.04\n",
      "2017-05-01    603.55\n",
      "2017-06-01    828.17\n",
      "2017-07-01   2430.27\n",
      "2017-08-01  13915.68\n",
      "2017-09-01  -1710.09\n",
      "Returns               Amount\n",
      "Date                \n",
      "2017-01-01  0.008086\n",
      "2017-02-01 -0.005208\n",
      "2017-03-01  0.011619\n",
      "2017-04-01  0.006538\n",
      "2017-05-01  0.003067\n",
      "2017-06-01  0.004196\n",
      "2017-07-01  0.012262\n",
      "2017-08-01  0.055523\n",
      "2017-09-01 -0.006763\n",
      "Returns_anual               Amount\n",
      "Date                \n",
      "2017-01-01  0.097026\n",
      "2017-02-01 -0.062492\n",
      "2017-03-01  0.139426\n",
      "2017-04-01  0.078451\n",
      "2017-05-01  0.036808\n",
      "2017-06-01  0.050352\n",
      "2017-07-01  0.147140\n",
      "2017-08-01  0.666271\n",
      "2017-09-01 -0.081160\n",
      "RollRet               Amount\n",
      "Date                \n",
      "2017-01-01       NaN\n",
      "2017-02-01       NaN\n",
      "2017-03-01       NaN\n",
      "2017-04-01       NaN\n",
      "2017-05-01       NaN\n",
      "2017-06-01       NaN\n",
      "2017-07-01       NaN\n",
      "2017-08-01       NaN\n",
      "2017-09-01  0.101594\n",
      "RollRet_anual               Amount\n",
      "Date                \n",
      "2017-01-01       NaN\n",
      "2017-02-01       NaN\n",
      "2017-03-01       NaN\n",
      "2017-04-01       NaN\n",
      "2017-05-01       NaN\n",
      "2017-06-01       NaN\n",
      "2017-07-01       NaN\n",
      "2017-08-01       NaN\n",
      "2017-09-01  0.135459\n"
     ]
    }
   ],
   "source": [
    "invest.build()\n",
    "print(\"Profits\", invest.get_profits())\n",
    "print(\"Returns\", invest.get_returns())\n",
    "print(\"Returns_anual\", invest.get_returns_anual())\n",
    "print(\"RollRet\", invest.get_rolling_return(9))\n",
    "print(\"RollRet_anual\", invest.get_rolling_return_anual(9))"
   ]
  },
  {
   "cell_type": "code",
   "execution_count": 38,
   "metadata": {},
   "outputs": [
    {
     "data": {
      "text/html": [
       "<div>\n",
       "<style>\n",
       "    .dataframe thead tr:only-child th {\n",
       "        text-align: right;\n",
       "    }\n",
       "\n",
       "    .dataframe thead th {\n",
       "        text-align: left;\n",
       "    }\n",
       "\n",
       "    .dataframe tbody tr th {\n",
       "        vertical-align: top;\n",
       "    }\n",
       "</style>\n",
       "<table border=\"1\" class=\"dataframe\">\n",
       "  <thead>\n",
       "    <tr style=\"text-align: right;\">\n",
       "      <th></th>\n",
       "      <th>x</th>\n",
       "      <th>y</th>\n",
       "    </tr>\n",
       "  </thead>\n",
       "  <tbody>\n",
       "    <tr>\n",
       "      <th>0</th>\n",
       "      <td>1</td>\n",
       "      <td>2</td>\n",
       "    </tr>\n",
       "  </tbody>\n",
       "</table>\n",
       "</div>"
      ],
      "text/plain": [
       "   x  y\n",
       "0  1  2"
      ]
     },
     "execution_count": 38,
     "metadata": {},
     "output_type": "execute_result"
    }
   ],
   "source": [
    "r=pd.DataFrame(columns=['x', 'y'])\n",
    "r.loc[0] = [1,2]\n",
    "r"
   ]
  }
 ],
 "metadata": {
  "kernelspec": {
   "display_name": "Python 3",
   "language": "python",
   "name": "python3"
  },
  "language_info": {
   "codemirror_mode": {
    "name": "ipython",
    "version": 3
   },
   "file_extension": ".py",
   "mimetype": "text/x-python",
   "name": "python",
   "nbconvert_exporter": "python",
   "pygments_lexer": "ipython3",
   "version": "3.6.1"
  }
 },
 "nbformat": 4,
 "nbformat_minor": 2
}
