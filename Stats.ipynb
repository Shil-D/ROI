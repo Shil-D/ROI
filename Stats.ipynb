{
 "cells": [
  {
   "cell_type": "code",
   "execution_count": 16,
   "metadata": {},
   "outputs": [],
   "source": [
    "%matplotlib inline\n",
    "import pandas as pd\n",
    "import os\n",
    "import numpy as np"
   ]
  },
  {
   "cell_type": "code",
   "execution_count": 72,
   "metadata": {
    "collapsed": true
   },
   "outputs": [],
   "source": [
    "base_file = 'out.xlsx'\n",
    "risk_free_file = 'rf.xlsx'"
   ]
  },
  {
   "cell_type": "code",
   "execution_count": 73,
   "metadata": {},
   "outputs": [],
   "source": [
    "df = pd.read_excel(base_file)\n",
    "risk_free = pd.read_excel(risk_free_file)"
   ]
  },
  {
   "cell_type": "code",
   "execution_count": 74,
   "metadata": {
    "collapsed": true,
    "scrolled": true
   },
   "outputs": [],
   "source": [
    "amnt = df.Amount"
   ]
  },
  {
   "cell_type": "code",
   "execution_count": 75,
   "metadata": {
    "collapsed": true
   },
   "outputs": [],
   "source": [
    "df['Daily_Profits'] = amnt.diff()"
   ]
  },
  {
   "cell_type": "code",
   "execution_count": 76,
   "metadata": {
    "collapsed": true
   },
   "outputs": [],
   "source": [
    "df['Daily_Returns'] = amnt.pct_change()\n",
    "daily_rets = df['Daily_Returns']\n",
    "cum_rets = daily_rets.cumsum() + 1\n",
    "risk_free_rates = risk_free['RiskFreeRate'] / 252"
   ]
  },
  {
   "cell_type": "code",
   "execution_count": 77,
   "metadata": {
    "collapsed": true
   },
   "outputs": [],
   "source": [
    "df['Excess_Returns'] = daily_rets - risk_free_rates\n",
    "exc_rets = df['Excess_Returns']\n",
    "exc_cum_rets = exc_rets.cumsum() + 1"
   ]
  },
  {
   "cell_type": "code",
   "execution_count": 78,
   "metadata": {},
   "outputs": [],
   "source": [
    "sharpe = np.sqrt(252)*exc_rets.mean()/exc_rets.std()"
   ]
  },
  {
   "cell_type": "code",
   "execution_count": 79,
   "metadata": {},
   "outputs": [],
   "source": [
    "def max_dd(ser):\n",
    "    max2here = ser.expanding().max()\n",
    "    dd2here = ser - max2here\n",
    "    return dd2here.min()"
   ]
  },
  {
   "cell_type": "code",
   "execution_count": 80,
   "metadata": {},
   "outputs": [
    {
     "data": {
      "text/plain": [
       "2017-11-01         NaN\n",
       "2017-11-02    1.000644\n",
       "2017-11-03    1.001571\n",
       "2017-11-04    1.001779\n",
       "2017-11-05    1.001779\n",
       "2017-11-06    1.001779\n",
       "2017-11-07    1.002862\n",
       "Name: Daily_Returns, dtype: float64"
      ]
     },
     "execution_count": 80,
     "metadata": {},
     "output_type": "execute_result"
    }
   ],
   "source": [
    "cum_rets"
   ]
  },
  {
   "cell_type": "code",
   "execution_count": 67,
   "metadata": {},
   "outputs": [],
   "source": [
    "def max_ddd(ser):\n",
    "    ddd = s.copy()\n",
    "    ddd[0] = 0\n",
    "    max2here = s.expanding().max()\n",
    "    dd2here = max2here - s\n",
    "    for i in range(1,len(dd2here != 0)):\n",
    "        if dd2here[i-1] == 0:\n",
    "            ddd[i] = 0\n",
    "        else:\n",
    "            ddd[i] = ddd[i-1] + 1\n",
    "    return ddd.max()"
   ]
  },
  {
   "cell_type": "code",
   "execution_count": 83,
   "metadata": {},
   "outputs": [],
   "source": [
    "df = pd.read_excel(base_file)\n",
    "risk_free = pd.read_excel(risk_free_file)\n",
    "amnt = df.Amount\n",
    "risk_free = risk_free.reindex(index = df.index, method='ffill', copy=False)"
   ]
  },
  {
   "cell_type": "code",
   "execution_count": 84,
   "metadata": {},
   "outputs": [
    {
     "data": {
      "text/html": [
       "<div>\n",
       "<style>\n",
       "    .dataframe thead tr:only-child th {\n",
       "        text-align: right;\n",
       "    }\n",
       "\n",
       "    .dataframe thead th {\n",
       "        text-align: left;\n",
       "    }\n",
       "\n",
       "    .dataframe tbody tr th {\n",
       "        vertical-align: top;\n",
       "    }\n",
       "</style>\n",
       "<table border=\"1\" class=\"dataframe\">\n",
       "  <thead>\n",
       "    <tr style=\"text-align: right;\">\n",
       "      <th></th>\n",
       "      <th>RiskFreeRate</th>\n",
       "    </tr>\n",
       "  </thead>\n",
       "  <tbody>\n",
       "    <tr>\n",
       "      <th>2017-11-01</th>\n",
       "      <td>0.06</td>\n",
       "    </tr>\n",
       "    <tr>\n",
       "      <th>2017-11-02</th>\n",
       "      <td>0.06</td>\n",
       "    </tr>\n",
       "    <tr>\n",
       "      <th>2017-11-03</th>\n",
       "      <td>0.06</td>\n",
       "    </tr>\n",
       "    <tr>\n",
       "      <th>2017-11-04</th>\n",
       "      <td>0.06</td>\n",
       "    </tr>\n",
       "    <tr>\n",
       "      <th>2017-11-05</th>\n",
       "      <td>0.06</td>\n",
       "    </tr>\n",
       "    <tr>\n",
       "      <th>2017-11-06</th>\n",
       "      <td>0.06</td>\n",
       "    </tr>\n",
       "    <tr>\n",
       "      <th>2017-11-07</th>\n",
       "      <td>0.06</td>\n",
       "    </tr>\n",
       "  </tbody>\n",
       "</table>\n",
       "</div>"
      ],
      "text/plain": [
       "            RiskFreeRate\n",
       "2017-11-01          0.06\n",
       "2017-11-02          0.06\n",
       "2017-11-03          0.06\n",
       "2017-11-04          0.06\n",
       "2017-11-05          0.06\n",
       "2017-11-06          0.06\n",
       "2017-11-07          0.06"
      ]
     },
     "execution_count": 84,
     "metadata": {},
     "output_type": "execute_result"
    }
   ],
   "source": [
    "risk_free"
   ]
  }
 ],
 "metadata": {
  "kernelspec": {
   "display_name": "Python 3",
   "language": "python",
   "name": "python3"
  },
  "language_info": {
   "codemirror_mode": {
    "name": "ipython",
    "version": 3
   },
   "file_extension": ".py",
   "mimetype": "text/x-python",
   "name": "python",
   "nbconvert_exporter": "python",
   "pygments_lexer": "ipython3",
   "version": "3.6.1"
  }
 },
 "nbformat": 4,
 "nbformat_minor": 2
}
